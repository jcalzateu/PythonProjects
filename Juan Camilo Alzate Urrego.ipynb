{
 "cells": [
  {
   "cell_type": "markdown",
   "metadata": {},
   "source": [
    "# Taller estructura de datos\n",
    "**Juan Camilo Alzate Urrego** **Cod:316505**"
   ]
  },
  {
   "cell_type": "markdown",
   "metadata": {},
   "source": [
    "## Cadena de caracteres"
   ]
  },
  {
   "cell_type": "markdown",
   "metadata": {},
   "source": [
    "En la siguiente celda realice:\n",
    "\n",
    "**NOTA:** Si le parece más cómodo, añada más celdas.\n",
    "\n",
    "1. Ingrese su nombre completo como una cadena de caracteres\n",
    "2. Realizando una indexación, extraiga cada vocal que componen sus nombres y apellidos\n",
    "3. Realizando una indexación inversa, extraiga cada consonante de su nombre\n",
    "4. Almacene cada palabra de su nombre en una variable y, al final, sume las variables para mostrar su nombre completo\n",
    "\n",
    "**Cada punto debe ser mostrado en pantalla.**"
   ]
  },
  {
   "cell_type": "code",
   "execution_count": 5,
   "metadata": {},
   "outputs": [
    {
     "name": "stdout",
     "output_type": "stream",
     "text": [
      "Juan Camilo Alzate\n"
     ]
    }
   ],
   "source": [
    "# punto 1\n",
    "NAME='Juan Camilo Alzate'\n",
    "print(NAME)"
   ]
  },
  {
   "cell_type": "code",
   "execution_count": 6,
   "metadata": {},
   "outputs": [
    {
     "name": "stdout",
     "output_type": "stream",
     "text": [
      "u\n",
      "a\n",
      "a\n",
      "i\n",
      "o\n",
      "A\n",
      "a\n",
      "e\n"
     ]
    }
   ],
   "source": [
    "#punto 2\n",
    "print(NAME[1])\n",
    "print(NAME[2])\n",
    "print(NAME[6])\n",
    "print(NAME[8])\n",
    "print(NAME[10])\n",
    "print(NAME[12])\n",
    "print(NAME[15])\n",
    "print(NAME[17])"
   ]
  },
  {
   "cell_type": "code",
   "execution_count": 18,
   "metadata": {},
   "outputs": [
    {
     "name": "stdout",
     "output_type": "stream",
     "text": [
      "t\n",
      "z\n",
      "l\n",
      "l\n",
      "m\n",
      "C\n",
      "n\n",
      "J\n"
     ]
    }
   ],
   "source": [
    "#Punto 3\n",
    "print(NAME[-2])\n",
    "print(NAME[-4])\n",
    "print(NAME[-5])\n",
    "print(NAME[-9])\n",
    "print(NAME[-11])\n",
    "print(NAME[-13])\n",
    "print(NAME[-15])\n",
    "print(NAME[-18])"
   ]
  },
  {
   "cell_type": "code",
   "execution_count": 23,
   "metadata": {},
   "outputs": [
    {
     "name": "stdout",
     "output_type": "stream",
     "text": [
      "Juan Camilo Alzate\n"
     ]
    }
   ],
   "source": [
    "# Punto 4\n",
    "UNO = NAME[0:4]\n",
    "DOS = NAME[5:11]\n",
    "TRES = NAME[12:18]\n",
    "print(UNO+' '+DOS+' '+TRES)"
   ]
  },
  {
   "cell_type": "markdown",
   "metadata": {},
   "source": [
    "## Listas"
   ]
  },
  {
   "cell_type": "markdown",
   "metadata": {},
   "source": [
    "En la siguiente celda realice:\n",
    "\n",
    "**NOTA:** Si le parece más cómodo, añada más celdas.\n",
    "\n",
    "1. Realice una lista que tenga, por lo menos, 7 instrumentos musicales de viento.\n",
    "2. Modifique 3 elementos de la lista anterior, en la posición que quiera, con instrumentos musicales de cuerda.\n",
    "3. Borre los últimos 4 elementos de la lista. \n",
    "\n",
    "**Cada punto debe ser mostrado en pantalla.**"
   ]
  },
  {
   "cell_type": "code",
   "execution_count": 38,
   "metadata": {},
   "outputs": [
    {
     "name": "stdout",
     "output_type": "stream",
     "text": [
      "['Harmónica', 'Ocarina', 'Shakuhachi', 'Erke', 'Tuba', 'Trompeta', 'Fagot', 'Oboe', 'Picolo']\n"
     ]
    }
   ],
   "source": [
    "# punto 1\n",
    "INST=['Harmónica','Ocarina','Shakuhachi','Erke','Tuba','Trompeta','Fagot','Oboe','Picolo']\n",
    "print(INST)"
   ]
  },
  {
   "cell_type": "code",
   "execution_count": 39,
   "metadata": {},
   "outputs": [
    {
     "name": "stdout",
     "output_type": "stream",
     "text": [
      "['Harmónica', 'Ocarina', 'Arpa', 'Erke', 'Laúd', 'Trompeta', 'Fagot', 'Violonchelo', 'Picolo']\n"
     ]
    }
   ],
   "source": [
    "# Punto 2\n",
    "INST[2]='Arpa'\n",
    "INST[4]='Laúd'\n",
    "INST[7]='Violonchelo'\n",
    "print(INST)"
   ]
  },
  {
   "cell_type": "code",
   "execution_count": 40,
   "metadata": {},
   "outputs": [
    {
     "name": "stdout",
     "output_type": "stream",
     "text": [
      "['Harmónica', 'Ocarina', 'Arpa', 'Erke', 'Laúd']\n"
     ]
    }
   ],
   "source": [
    "# punto 3\n",
    "INST[5:]=[]\n",
    "print(INST)"
   ]
  },
  {
   "cell_type": "markdown",
   "metadata": {},
   "source": [
    "En la siguiente celda realice:\n",
    "\n",
    "**NOTA:** Si le parece más cómodo, añada más celdas.\n",
    "    \n",
    "1. Realice una lista que tenga, por lo menos, 10 paises europeos.\n",
    "2. Realice una lista que contenga, por lo menos, 10 paises asiáticos. \n",
    "3. Utilizando la función extend(), añada la lista de paises asiáticos a la lista de paises europeos. \n",
    "4. Utilizando la función len(), muestre la cantidad de elementos de la nueva lista.\n",
    "5. Inserte la palabra \"TALLER\" en en 5ta y en la 17va posición. Para comprobar que están en la posición correcta, con ayuda de la función index(), muestre los índices respectivos. \n",
    "6. Organice la nueva lista en orden alfabético. \n",
    "7. Quite todos los elementos de la lista. \n",
    "\n",
    "**Cada punto debe ser mostrado en pantalla.**"
   ]
  },
  {
   "cell_type": "code",
   "execution_count": 89,
   "metadata": {},
   "outputs": [
    {
     "name": "stdout",
     "output_type": "stream",
     "text": [
      "['España', 'Estonia', 'Francia', 'Italia', 'Luxemburgo', 'Portugal', 'Rumanía', 'Suecia', 'Lituania', 'Bélgica', 'Croacia', 'Chipre']\n"
     ]
    }
   ],
   "source": [
    "# Punto 1\n",
    "EUR= ['España','Estonia','Francia','Italia','Luxemburgo','Portugal','Rumanía','Suecia','Lituania','Bélgica','Croacia',\n",
    "     'Chipre']\n",
    "print(EUR)"
   ]
  },
  {
   "cell_type": "code",
   "execution_count": 90,
   "metadata": {},
   "outputs": [
    {
     "name": "stdout",
     "output_type": "stream",
     "text": [
      "['Afganistán', 'Birmania', 'Catar', 'China', 'Japón', 'Israel', 'Nepal', 'Taiwán', 'Vietnam', 'Mongolia', 'Kazajistán']\n"
     ]
    }
   ],
   "source": [
    "#punto 2\n",
    "ASI=['Afganistán','Birmania','Catar','China','Japón','Israel','Nepal','Taiwán','Vietnam','Mongolia','Kazajistán']\n",
    "print(ASI)"
   ]
  },
  {
   "cell_type": "code",
   "execution_count": 91,
   "metadata": {},
   "outputs": [
    {
     "name": "stdout",
     "output_type": "stream",
     "text": [
      "['España', 'Estonia', 'Francia', 'Italia', 'Luxemburgo', 'Portugal', 'Rumanía', 'Suecia', 'Lituania', 'Bélgica', 'Croacia', 'Chipre', 'Afganistán', 'Birmania', 'Catar', 'China', 'Japón', 'Israel', 'Nepal', 'Taiwán', 'Vietnam', 'Mongolia', 'Kazajistán']\n"
     ]
    }
   ],
   "source": [
    "# punto 3\n",
    "EUR.extend(ASI)\n",
    "print(EUR)"
   ]
  },
  {
   "cell_type": "code",
   "execution_count": 92,
   "metadata": {},
   "outputs": [
    {
     "data": {
      "text/plain": [
       "23"
      ]
     },
     "execution_count": 92,
     "metadata": {},
     "output_type": "execute_result"
    }
   ],
   "source": [
    "# punto 4\n",
    "len(EUR)"
   ]
  },
  {
   "cell_type": "code",
   "execution_count": 95,
   "metadata": {},
   "outputs": [
    {
     "name": "stdout",
     "output_type": "stream",
     "text": [
      "5\n",
      "17\n"
     ]
    }
   ],
   "source": [
    "# punto 5\n",
    "EUR.insert(5,'Taller')\n",
    "EUR.insert(17,'Taller')\n",
    "a=EUR.index('Taller',1,9)\n",
    "print(a)\n",
    "b=EUR.index('Taller',10,23)\n",
    "print(b)"
   ]
  },
  {
   "cell_type": "code",
   "execution_count": 97,
   "metadata": {},
   "outputs": [
    {
     "name": "stdout",
     "output_type": "stream",
     "text": [
      "['Afganistán', 'Birmania', 'Bélgica', 'Catar', 'China', 'Chipre', 'Croacia', 'España', 'Estonia', 'Francia', 'Israel', 'Italia', 'Japón', 'Kazajistán', 'Lituania', 'Luxemburgo', 'Mongolia', 'Nepal', 'Portugal', 'Rumanía', 'Suecia', 'Taiwán', 'Taller', 'Taller', 'Taller', 'Taller', 'Taller', 'Taller', 'Vietnam']\n"
     ]
    }
   ],
   "source": [
    "# punto 6\n",
    "a=EUR.sort()\n",
    "print(EUR)"
   ]
  },
  {
   "cell_type": "code",
   "execution_count": 99,
   "metadata": {},
   "outputs": [
    {
     "name": "stdout",
     "output_type": "stream",
     "text": [
      "[]\n"
     ]
    }
   ],
   "source": [
    "# punto 7\n",
    "del EUR[:23]\n",
    "print(EUR)"
   ]
  },
  {
   "cell_type": "markdown",
   "metadata": {},
   "source": [
    "## Conjuntos"
   ]
  },
  {
   "cell_type": "markdown",
   "metadata": {},
   "source": [
    "En la siguiente celda realice:\n",
    "\n",
    "**NOTA:** Si le parece más cómodo, añada más celdas.\n",
    "\n",
    "1. Realice un conjunto con todas las letras del alfabeto español. \n",
    "2. Realice un conjunto con todas las consonantes del alfabeto español. \n",
    "3. Realice la diferencia de ambos conjuntos; tanto conjunto1-conjunto2 como conjunto2-conjunto1.\n",
    "4. Actualice el conjunto del punto 1 con la intersección entre el conjunto del punto 2. \n",
    "5. Remueva las siguientes letras del conjunto del punto 4: b,f,k,n,y,z. \n",
    "6. Realice un conjunto con todas las vocales del alfabeto español. \n",
    "7. Realice la unión entre los conjuntos del punto 4 y del punto 6. \n",
    "\n",
    "**Cada punto debe ser mostrado en pantalla.**"
   ]
  },
  {
   "cell_type": "code",
   "execution_count": 127,
   "metadata": {},
   "outputs": [
    {
     "name": "stdout",
     "output_type": "stream",
     "text": [
      "{'s', 'p', 'l', 'u', 'z', 'm', 'i', 't', 'g', 'v', 'q', 'r', 'j', 'x', 'w', 'a', 'd', 'n', 'f', 'c', 'ñ', 'b', 'e', 'o', 'y', 'h', 'k'}\n"
     ]
    }
   ],
   "source": [
    "# punto 1\n",
    "abc={'a','b','c','d','e','f','g','h','i','j','k','l','m','n','ñ','o','p','q','r','s','t','u','v','w','x','y','z'}\n",
    "print(abc)"
   ]
  },
  {
   "cell_type": "code",
   "execution_count": 128,
   "metadata": {},
   "outputs": [
    {
     "name": "stdout",
     "output_type": "stream",
     "text": [
      "{'s', 'p', 'l', 'z', 'm', 't', 'g', 'v', 'q', 'r', 'j', 'x', 'w', 'd', 'f', 'c', 'ñ', 'b', 'y', 'h', 'k'}\n"
     ]
    }
   ],
   "source": [
    "# punto 2\n",
    "cons={'b','c','d','f','g','h','j','k','l','m','ñ','p','q','r','s','t','v','w','x','y','z'}\n",
    "print(cons)"
   ]
  },
  {
   "cell_type": "code",
   "execution_count": 129,
   "metadata": {},
   "outputs": [
    {
     "name": "stdout",
     "output_type": "stream",
     "text": [
      "{'n', 'o', 'u', 'i', 'a', 'e'}\n",
      "set()\n"
     ]
    }
   ],
   "source": [
    "# punto 3\n",
    "a=abc.difference(cons)\n",
    "print(a)\n",
    "a=cons.difference(abc)\n",
    "print(a)"
   ]
  },
  {
   "cell_type": "code",
   "execution_count": 134,
   "metadata": {},
   "outputs": [
    {
     "name": "stdout",
     "output_type": "stream",
     "text": [
      "{'s', 'p', 'l', 'z', 'm', 't', 'g', 'v', 'q', 'r', 'j', 'x', 'w', 'd', 'f', 'c', 'ñ', 'b', 'y', 'h', 'k'}\n"
     ]
    }
   ],
   "source": [
    "# punto 4\n",
    "a=abc.intersection_update(cons)\n",
    "print(abc)"
   ]
  },
  {
   "cell_type": "code",
   "execution_count": 141,
   "metadata": {},
   "outputs": [
    {
     "name": "stdout",
     "output_type": "stream",
     "text": [
      "{'s', 'p', 'l', 'm', 't', 'g', 'v', 'q', 'r', 'j', 'x', 'w', 'd', 'c', 'ñ', 'h'}\n"
     ]
    }
   ],
   "source": [
    "# punto 5\n",
    "abc.discard('b')\n",
    "abc.discard('f')\n",
    "abc.discard('k')\n",
    "abc.discard('y')\n",
    "abc.discard('z')\n",
    "print(abc)"
   ]
  },
  {
   "cell_type": "code",
   "execution_count": 142,
   "metadata": {},
   "outputs": [
    {
     "name": "stdout",
     "output_type": "stream",
     "text": [
      "{'o', 'u', 'i', 'a', 'e'}\n"
     ]
    }
   ],
   "source": [
    "# punto 6\n",
    "voca={'a','e','i','o','u'}\n",
    "print(voca)"
   ]
  },
  {
   "cell_type": "code",
   "execution_count": 149,
   "metadata": {},
   "outputs": [
    {
     "name": "stdout",
     "output_type": "stream",
     "text": [
      "{'s', 'ñ', 'c', 'p', 'l', 'u', 'm', 'i', 't', 'e', 'g', 'v', 'q', 'o', 'r', 'h', 'j', 'x', 'w', 'a', 'd'}\n"
     ]
    }
   ],
   "source": [
    "# punto 7\n",
    "a=abc.union(voca)\n",
    "print(a)"
   ]
  },
  {
   "cell_type": "markdown",
   "metadata": {},
   "source": [
    "## Diccionarios"
   ]
  },
  {
   "cell_type": "markdown",
   "metadata": {},
   "source": [
    "En la siguiente celda realice: \n",
    "    \n",
    "**Nota:** Si le parece más cómodo, añada más celdas. \n",
    "\n",
    "1. Realice un diccionario con 7 elementos. Las claves deben ser por lo menos 7 datos personales cualquiera y los valores pueden inventar algo que les corresponda. Ejemplo: 'Nombre':'Armando Casas'.\n",
    "2. Aplique la función items() al diccionario del punto 1. \n",
    "3. Extraiga las claves del diccionario del punto 1.\n",
    "4. Extraiga los valores del diccionario del punto 1. \n",
    "5. Aplique la función get() al diccionario del punto 1 y obtenga, por lo menos, los valores de 4 claves."
   ]
  },
  {
   "cell_type": "code",
   "execution_count": 156,
   "metadata": {},
   "outputs": [
    {
     "name": "stdout",
     "output_type": "stream",
     "text": [
      "{'Nombre ': 'Jose Repelin', 'Fecha de nacimiento': ' 08/01/1590', 'Lugar de nacimiento': ' Ni idea', 'Estatura': ' Muy alto', 'Telefono': ' 3 gritos', 'Dirección': ' Calle lagarto esquina', 'Carrera': ' Teología', 'Codigo': '007', 'Semestre': 'decimoctavo'}\n"
     ]
    }
   ],
   "source": [
    "# punto 1\n",
    "DATE={'Nombre ':'Jose Repelin',\n",
    "     'Fecha de nacimiento':' 08/01/1590',\n",
    "     'Lugar de nacimiento':' Ni idea',\n",
    "     'Estatura':' Muy alto',\n",
    "     'Telefono':' 3 gritos',\n",
    "     'Dirección':' Calle lagarto esquina',\n",
    "     'Carrera':' Teología',\n",
    "     'Codigo':'007',\n",
    "     'Semestre':'decimoctavo'}\n",
    "print(DATE)"
   ]
  },
  {
   "cell_type": "code",
   "execution_count": 158,
   "metadata": {},
   "outputs": [
    {
     "name": "stdout",
     "output_type": "stream",
     "text": [
      "dict_items([('Nombre ', 'Jose Repelin'), ('Fecha de nacimiento', ' 08/01/1590'), ('Lugar de nacimiento', ' Ni idea'), ('Estatura', ' Muy alto'), ('Telefono', ' 3 gritos'), ('Dirección', ' Calle lagarto esquina'), ('Carrera', ' Teología'), ('Codigo', '007'), ('Semestre', 'decimoctavo')])\n"
     ]
    }
   ],
   "source": [
    "# punto 2\n",
    "a=DATE.items()\n",
    "print(a)"
   ]
  },
  {
   "cell_type": "code",
   "execution_count": 159,
   "metadata": {},
   "outputs": [
    {
     "name": "stdout",
     "output_type": "stream",
     "text": [
      "dict_keys(['Nombre ', 'Fecha de nacimiento', 'Lugar de nacimiento', 'Estatura', 'Telefono', 'Dirección', 'Carrera', 'Codigo', 'Semestre'])\n"
     ]
    }
   ],
   "source": [
    "# punto 3\n",
    "a=DATE.keys()\n",
    "print(a)"
   ]
  },
  {
   "cell_type": "code",
   "execution_count": 160,
   "metadata": {},
   "outputs": [
    {
     "name": "stdout",
     "output_type": "stream",
     "text": [
      "dict_values(['Jose Repelin', ' 08/01/1590', ' Ni idea', ' Muy alto', ' 3 gritos', ' Calle lagarto esquina', ' Teología', '007', 'decimoctavo'])\n"
     ]
    }
   ],
   "source": [
    "# punto 4\n",
    "a=DATE.values()\n",
    "print(a)"
   ]
  },
  {
   "cell_type": "code",
   "execution_count": 163,
   "metadata": {},
   "outputs": [
    {
     "name": "stdout",
     "output_type": "stream",
     "text": [
      "Jose Repelin\n",
      " Calle lagarto esquina\n",
      " Teología\n",
      "decimoctavo\n"
     ]
    }
   ],
   "source": [
    "a=DATE.get('Nombre ')\n",
    "print(a)\n",
    "a=DATE.get('Dirección')\n",
    "print(a)\n",
    "a=DATE.get('Carrera')\n",
    "print(a)\n",
    "a=DATE.get('Semestre')\n",
    "print(a)"
   ]
  }
 ],
 "metadata": {
  "kernelspec": {
   "display_name": "Python 3",
   "language": "python",
   "name": "python3"
  },
  "language_info": {
   "codemirror_mode": {
    "name": "ipython",
    "version": 3
   },
   "file_extension": ".py",
   "mimetype": "text/x-python",
   "name": "python",
   "nbconvert_exporter": "python",
   "pygments_lexer": "ipython3",
   "version": "3.8.2"
  }
 },
 "nbformat": 4,
 "nbformat_minor": 4
}
