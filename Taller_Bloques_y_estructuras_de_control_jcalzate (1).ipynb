{
 "cells": [
  {
   "cell_type": "markdown",
   "metadata": {
    "colab_type": "text",
    "id": "79L93H-m8oNg"
   },
   "source": [
    "# Taller de bloques de código y estructuas de control"
   ]
  },
  {
   "cell_type": "markdown",
   "metadata": {
    "colab_type": "text",
    "id": "r28TANkic42z"
   },
   "source": [
    "A continuación encontrarán 5 ejercicios con los cuales podrán practicar lo visto en clase. La lógica para desarrollar los mismos es libre, el todo es que cumpla con lo especificado. \n",
    "\n",
    "Nuevamente, la idea es que desarrollen debajo de cada literal el código correspondiente."
   ]
  },
  {
   "cell_type": "markdown",
   "metadata": {
    "colab_type": "text",
    "id": "pP04J-x98ymD"
   },
   "source": [
    "1. Realice un programa que reciba un número entero e imprima su descomposición en factores primos"
   ]
  },
  {
   "cell_type": "code",
   "execution_count": 0,
   "metadata": {
    "colab": {
     "base_uri": "https://localhost:8080/",
     "height": 67
    },
    "colab_type": "code",
    "id": "s-92dGAsCNbY",
    "outputId": "f8a61677-0475-4297-e99d-42c2f205d1a7"
   },
   "outputs": [
    {
     "name": "stdout",
     "output_type": "stream",
     "text": [
      "Ingrese un número entero, por favor: 13195\n",
      "Los numeros primos son:\n",
      "[5, 7, 13, 29]\n"
     ]
    }
   ],
   "source": [
    "b = int(input('Ingrese un número entero, por favor: '))\n",
    "num_primos=[]\n",
    "b1=b\n",
    "cont=0\n",
    "for i in range(2,b+1):\n",
    "    if b1 % i == 0:\n",
    "        num_primos.append(i)\n",
    "#         cont=cont+1\n",
    "        b1=b1/i\n",
    "        \n",
    "print('Los numeros primos son:')\n",
    "print( num_primos)\n",
    "\n",
    "    "
   ]
  },
  {
   "cell_type": "markdown",
   "metadata": {
    "colab_type": "text",
    "id": "I4ImlCykCPCU"
   },
   "source": [
    "2. Realice un programa que clasifique los pesos de los **n** objetos de una bodega en tres grupos: Menos a 10 kg, entre 10 kg y 20 kg y más de 20 kg. \n",
    "\n",
    "  **Nota:**\n",
    "  * Se debe guardar el objeto y su peso en un diccionario.\n",
    "  * El usuario debe escoger qué clasificación desea. Una vez hecha la elección, el programa debe imprimir el grupo y los objetos contenidos en el mismo."
   ]
  },
  {
   "cell_type": "code",
   "execution_count": 0,
   "metadata": {
    "colab": {},
    "colab_type": "code",
    "id": "4WIHHhO5K_f4",
    "outputId": "1c0f3b80-24f9-4716-d9ba-ae8e5a29d62c"
   },
   "outputs": [
    {
     "name": "stdout",
     "output_type": "stream",
     "text": [
      "Bienvenido a bodegas Alzate\n",
      "¿Qué dato quieres introducir?: 2\n",
      "2:2\n",
      "¿Quieres añadir más información personal (Si/No)?: 2\n",
      "los articulos menores de 10 Kg son:  {'2': '2'}\n",
      "los articulos entre 10 Kg y 20 Kg son:  {}\n",
      "los articulos mayores de 20 Kg son:  {}\n"
     ]
    }
   ],
   "source": [
    "print('Bienvenido a bodegas Alzate')\n",
    "Bodega={}\n",
    "Bodega_menor_10={}\n",
    "Bodega_int_1020={}\n",
    "Bodega_mayor_20={}\n",
    "mas='si'\n",
    "while mas=='si':\n",
    "  objeto=input('¿Qué dato quieres introducir?: ')\n",
    "  valor=input(objeto + ':')\n",
    "  Bodega[objeto] = valor\n",
    "  mas = input('¿Quieres añadir más información personal (Si/No)?: ')\n",
    "for objetos, peso in Bodega.items():\n",
    "    peso_1=int(peso)\n",
    "    if peso_1<10:\n",
    "        Bodega_menor_10[objetos]=peso\n",
    "    elif (peso_1>10 and peso_1<20):\n",
    "        Bodega_int_1020[objetos]=peso\n",
    "    elif peso_1>20:\n",
    "        Bodega_mayor_20[objetos]=peso\n",
    "        \n",
    "print('los articulos menores de 10 Kg son: ',Bodega_menor_10)\n",
    "print('los articulos entre 10 Kg y 20 Kg son: ',Bodega_int_1020)\n",
    "print('los articulos mayores de 20 Kg son: ',Bodega_mayor_20)"
   ]
  },
  {
   "cell_type": "markdown",
   "metadata": {
    "colab_type": "text",
    "id": "CEwuKp0KVYe_"
   },
   "source": [
    "3. Realice un programa que simule una lista de supermercado. El usuario deberá poder ingresar el artículo y su valor. Al final de ingresar los artículos, el código debera mostrar el contenido de toda la lista y el valor total a pagar. "
   ]
  },
  {
   "cell_type": "code",
   "execution_count": 0,
   "metadata": {
    "colab": {},
    "colab_type": "code",
    "id": "jXXE1ADkK_f7",
    "outputId": "446aa8ed-5407-4002-a279-e3dba0871110"
   },
   "outputs": [
    {
     "name": "stdout",
     "output_type": "stream",
     "text": [
      "¿Qué producto?: silla\n",
      "Ingrese el valor del producto\n",
      "silla:2000\n",
      "¿Quieres añadir más productos?: si\n",
      "¿Qué producto?: 5000\n",
      "Ingrese el valor del producto\n",
      "5000:23\n",
      "¿Quieres añadir más productos?: n\n",
      "Que Cantidad del producto\n",
      "silla:3\n",
      "Que Cantidad del producto\n",
      "5000:4\n",
      "El total es:  6092\n",
      "la lista de mercado es:  {'silla': '2000', '5000': '23'}\n"
     ]
    }
   ],
   "source": [
    "listamercado={}\n",
    "mas='si'\n",
    "Total=0\n",
    "while mas=='si':\n",
    "    \n",
    "    dato=input('¿Qué producto?: ')\n",
    "    print('Ingrese el valor del producto')\n",
    "    valor=input(dato+':')\n",
    "    \n",
    "    listamercado[dato]=valor\n",
    "    mas = input('¿Quieres añadir más productos?: ')\n",
    "for producto,valor in listamercado.items():\n",
    "    valor=int(valor)\n",
    "    print('Que Cantidad del producto')\n",
    "    cantidad=int(input(producto+':'))\n",
    "    Total=Total+cantidad*valor\n",
    "print('El total es: ',Total)\n",
    "print('la lista de mercado es: ',listamercado)    \n",
    "    \n",
    "    \n",
    "    \n",
    "# print('El valor total a pagar es: ',Total)    \n",
    "# print('la lista de mercado es: ',listamercado)"
   ]
  },
  {
   "cell_type": "markdown",
   "metadata": {
    "colab_type": "text",
    "id": "NRUCFcqrXSay"
   },
   "source": [
    "4. Cada nuevo término de la secuencia de Fibonacci se genera sumando los dos anteriores. Comenzando con 1 y 2, los primeros 10 términos serán:\n",
    "\n",
    "  1, 2, 3, 5, 8, 13, 21, 34, 55, 89, ...\n",
    "\n",
    "  Al considerar los términos de la secuencia de Fibonacci cuyos valores no superan los cuatro millones, encontrar la suma de los términos de valor par. \n",
    "  \n",
    "  El resultado es: 4613732"
   ]
  },
  {
   "cell_type": "code",
   "execution_count": 0,
   "metadata": {
    "colab": {
     "base_uri": "https://localhost:8080/",
     "height": 101
    },
    "colab_type": "code",
    "id": "3kZBlQxyYddW",
    "outputId": "270b7ed0-79e8-4189-a009-c5a8de518b06"
   },
   "outputs": [
    {
     "name": "stdout",
     "output_type": "stream",
     "text": [
      "Ingrese el valor total que desea obtener22\n",
      "[1, 1, 2, 3, 5, 8, 13, 21, 34]\n",
      "44\n",
      "La cantidad de elementos en la secuencia de Fibonacci es:  9\n",
      "Si desea compruebelo en el codigo siguiente\n"
     ]
    }
   ],
   "source": [
    "# fibonacci\n",
    "i=1\n",
    "j=1\n",
    "cont=2\n",
    "Fibbo=[]\n",
    "Fibbo.insert(0,i)\n",
    "Fibbo.insert(1,j)\n",
    "SumaPar=0\n",
    "T=int(input('Ingrese el valor total que desea obtener'))\n",
    "while SumaPar<T:\n",
    "  Suma=i+j\n",
    "  i=j\n",
    "  j=Suma\n",
    "  Fibbo.insert(cont,j)\n",
    "  cont=cont+1\n",
    "  if Suma%2==0:\n",
    "    SumaPar=Suma+SumaPar\n",
    "print(Fibbo)\n",
    "print(SumaPar)\n",
    "print('La cantidad de elementos en la secuencia de Fibonacci es: ',cont); print('Si desea compruebelo en el codigo siguiente')"
   ]
  },
  {
   "cell_type": "code",
   "execution_count": 2,
   "metadata": {
    "colab": {
     "base_uri": "https://localhost:8080/",
     "height": 67
    },
    "colab_type": "code",
    "id": "LfKlzNpeLMka",
    "outputId": "cd898a0e-4e62-4042-a76d-f231b627aa4f"
   },
   "outputs": [
    {
     "name": "stdout",
     "output_type": "stream",
     "text": [
      "Ingrese la cantidad de elementos de la Secuencia de Fibonacci5\n",
      "[1, 1, 2, 3, 5]\n",
      "El valor de la suma de los números pares es:  2\n"
     ]
    }
   ],
   "source": [
    "# fibonacci\n",
    "i=1\n",
    "j=1\n",
    "cont=2\n",
    "Fibbo=[]\n",
    "Fibbo.insert(0,i)\n",
    "Fibbo.insert(1,j)\n",
    "SumaPar=0\n",
    "T=int(input('Ingrese la cantidad de elementos de la Secuencia de Fibonacci'))\n",
    "while cont<T:\n",
    "  Suma=i+j\n",
    "  i=j\n",
    "  j=Suma\n",
    "  Fibbo.insert(cont,j)\n",
    "  cont=cont+1\n",
    "  if Suma%2==0:\n",
    "    SumaPar=Suma+SumaPar\n",
    "print(Fibbo)\n",
    "print('El valor de la suma de los números pares es: ',SumaPar)"
   ]
  },
  {
   "cell_type": "markdown",
   "metadata": {
    "colab_type": "text",
    "id": "xn_2Oe1ucfCQ"
   },
   "source": [
    "5. Los factores primos de 13195 son 5, 7, 13 y 29.\n",
    "\n",
    "  ¿Cuál es el factor primo más grande del número 600851475143? \n",
    "\n",
    "  El resultado es: 6857"
   ]
  },
  {
   "cell_type": "code",
   "execution_count": 1,
   "metadata": {
    "colab": {
     "base_uri": "https://localhost:8080/",
     "height": 50
    },
    "colab_type": "code",
    "id": "bv1RE_EIchzO",
    "outputId": "449c5533-e774-4421-ce40-51614f721a67"
   },
   "outputs": [
    {
     "name": "stdout",
     "output_type": "stream",
     "text": [
      "Ingrese el número del cual desee conocer sus factor primo mayor: 600851475143\n",
      "El factor primo más grande del numero ingresado es: 6857\n"
     ]
    }
   ],
   "source": [
    "num=int(input('Ingrese el número del cual desee conocer sus factor primo mayor: '))\n",
    "Factor_primo=int(2)\n",
    "\n",
    "while num !=1:\n",
    "    if num % Factor_primo ==0:\n",
    "        num = num / Factor_primo\n",
    "    else:\n",
    "        Factor_primo=Factor_primo + 1\n",
    "\n",
    "b=int(Factor_primo)\n",
    "print('El factor primo más grande del numero ingresado es:',b)"
   ]
  },
  {
   "cell_type": "code",
   "execution_count": 0,
   "metadata": {
    "colab": {},
    "colab_type": "code",
    "id": "Dcm8QOE1Tllq"
   },
   "outputs": [],
   "source": []
  }
 ],
 "metadata": {
  "colab": {
   "collapsed_sections": [],
   "name": "Taller_Bloques_y_estructuras_de_control_jcalzate.ipynb",
   "provenance": []
  },
  "kernelspec": {
   "display_name": "Python 3",
   "language": "python",
   "name": "python3"
  },
  "language_info": {
   "codemirror_mode": {
    "name": "ipython",
    "version": 3
   },
   "file_extension": ".py",
   "mimetype": "text/x-python",
   "name": "python",
   "nbconvert_exporter": "python",
   "pygments_lexer": "ipython3",
   "version": "3.8.2"
  }
 },
 "nbformat": 4,
 "nbformat_minor": 1
}
