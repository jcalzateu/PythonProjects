{
 "cells": [
  {
   "cell_type": "code",
   "execution_count": 98,
   "metadata": {},
   "outputs": [],
   "source": [
    "def dec_hex(a):\n",
    "    \"\"\"\"Convierte un número decimal a un número hexadecimal\"\"\"\n",
    "    hexadecimal=''\n",
    "    datofinal=''\n",
    "    cont=0\n",
    "    if a>=16:\n",
    "        operando=a\n",
    "        c=a\n",
    "        while operando>=16:\n",
    "            operando=c//16\n",
    "            residuo=c%16\n",
    "            if residuo>9:\n",
    "                if residuo == 10:\n",
    "                    residuo='A'\n",
    "                elif residuo == 11:\n",
    "                    residuo='B'\n",
    "                elif residuo == 12:\n",
    "                    residuo ='C'\n",
    "                elif residuo == 13:\n",
    "                    residuo ='D'\n",
    "                elif residuo == 14:\n",
    "                    residuo ='E'\n",
    "                elif residuo == 15:\n",
    "                    residuo ='F'\n",
    "            residuo=str(residuo)\n",
    "            hexadecimal+=residuo\n",
    "            cont=cont+1\n",
    "            c=operando\n",
    "        hexadecimal+=str(operando)\n",
    "    elif a==10:\n",
    "        hexadecimal='A'\n",
    "    elif a==11:\n",
    "        hexadecimal='B'\n",
    "    elif a==12:\n",
    "        hexadecimal='C'\n",
    "    elif a==13:\n",
    "        hexadecimal='D'\n",
    "    elif a==14:\n",
    "        hexadecimal='E'\n",
    "    elif a==15:\n",
    "        hexadecimal='F'\n",
    "    else:\n",
    "        hexadecimal=str(a)\n",
    "    for i in hexadecimal:\n",
    "        datofinal+=hexadecimal[cont]\n",
    "        cont=cont-1\n",
    "    print('El valor hexadecimal de: ' + str(a) + ' es: ' + datofinal)"
   ]
  },
  {
   "cell_type": "code",
   "execution_count": 99,
   "metadata": {},
   "outputs": [],
   "source": [
    "import numpy as np\n",
    "def hexadecimal_dec(a):\n",
    "    \"\"\"conviete un número hexadecimal en un número decimal\"\"\"\n",
    "    b=len(a)\n",
    "    cont=0\n",
    "    decimal=0\n",
    "    for i in a:\n",
    "        if a[cont]=='A':\n",
    "            operacion=10\n",
    "        elif a[cont]=='B':\n",
    "            operacion=11\n",
    "        elif a[cont]=='C':\n",
    "            operacion=12\n",
    "        elif a[cont]=='D':\n",
    "            operacion=13\n",
    "        elif a[cont]=='E':\n",
    "            operacion=14\n",
    "        elif a[cont]=='F':\n",
    "            operacion=15\n",
    "        elif a[cont]=='1':\n",
    "            operacion=1\n",
    "        elif a[cont]=='2':\n",
    "            operacion=2\n",
    "        elif a[cont]=='3':\n",
    "            operacion=3\n",
    "        elif a[cont]=='4':\n",
    "            operacion=4\n",
    "        elif a[cont]=='5':\n",
    "            operacion=5\n",
    "        elif a[cont]=='6':\n",
    "            operacion=6\n",
    "        elif a[cont]=='7':\n",
    "            operacion=7\n",
    "        elif a[cont]=='8':\n",
    "            operacion=8\n",
    "        elif a[cont]=='9':\n",
    "            operacion=9\n",
    "        elif a[cont] =='0':\n",
    "            operacion=0\n",
    "        \n",
    "        decimal +=operacion*np.power(16,b-1)\n",
    "        b=b-1\n",
    "        cont=cont+1\n",
    "    print('El valor decimal de: '+ str(a) + ' es: ' + str(decimal))"
   ]
  },
  {
   "cell_type": "code",
   "execution_count": 102,
   "metadata": {},
   "outputs": [
    {
     "name": "stdout",
     "output_type": "stream",
     "text": [
      "El valor hexadecimal de: 23761 es: 5CD1\n"
     ]
    }
   ],
   "source": [
    "dec_hex(23761)"
   ]
  },
  {
   "cell_type": "code",
   "execution_count": 103,
   "metadata": {},
   "outputs": [
    {
     "name": "stdout",
     "output_type": "stream",
     "text": [
      "El valor decimal de: 5CD1 es: 23761\n"
     ]
    }
   ],
   "source": [
    "\"ingresar el valor en mayuscula\"\n",
    "a='5CD1'\n",
    "hexadecimal_dec(a)"
   ]
  },
  {
   "cell_type": "code",
   "execution_count": 104,
   "metadata": {},
   "outputs": [],
   "source": [
    "def Decimal_oct(a):\n",
    "    \"\"\"Convierte un número decimal en un número octal\"\"\"\n",
    "    octal=''\n",
    "    datofinal=''\n",
    "    cont=0\n",
    "    if a>=8:\n",
    "        operando=a\n",
    "        c=a\n",
    "        cont=0\n",
    "        while operando>=8:\n",
    "            operando=c//8\n",
    "            residuo=c%8\n",
    "            residuo=str(residuo)\n",
    "            octal+=residuo\n",
    "            cont=cont+1\n",
    "            c=operando\n",
    "        octal+=str(operando)\n",
    "    else:\n",
    "        octal=str(a)\n",
    "    for i in octal:\n",
    "        datofinal+=octal[cont]\n",
    "        cont=cont-1\n",
    "    print('El valor octal de: ' + str(a) + ' es: ' + datofinal)"
   ]
  },
  {
   "cell_type": "code",
   "execution_count": 105,
   "metadata": {},
   "outputs": [],
   "source": [
    "import numpy as np\n",
    "def oct_decimal(a):\n",
    "    \"\"\"conviete un número octal en un número decimal\"\"\"\n",
    "    b=len(a)\n",
    "    cont=0\n",
    "    decimal=0\n",
    "    for i in a:\n",
    "        decimal +=int(a[cont])*np.power(8,b-1)\n",
    "        b=b-1\n",
    "        cont=cont+1\n",
    "    print('El valor decimal de: '+ str(a) + ' es: ' + str(decimal))"
   ]
  },
  {
   "cell_type": "code",
   "execution_count": 106,
   "metadata": {},
   "outputs": [
    {
     "name": "stdout",
     "output_type": "stream",
     "text": [
      "El valor octal de: 378 es: 572\n"
     ]
    }
   ],
   "source": [
    "Decimal_oct(378)"
   ]
  },
  {
   "cell_type": "code",
   "execution_count": 97,
   "metadata": {},
   "outputs": [
    {
     "name": "stdout",
     "output_type": "stream",
     "text": [
      "El valor decimal de: 25 es: 21\n"
     ]
    }
   ],
   "source": [
    "\"debe ingresar un número entero positivo\"\n",
    "a='25'\n",
    "oct_decimal(a)"
   ]
  },
  {
   "cell_type": "code",
   "execution_count": null,
   "metadata": {},
   "outputs": [],
   "source": []
  }
 ],
 "metadata": {
  "kernelspec": {
   "display_name": "Python 3",
   "language": "python",
   "name": "python3"
  },
  "language_info": {
   "codemirror_mode": {
    "name": "ipython",
    "version": 3
   },
   "file_extension": ".py",
   "mimetype": "text/x-python",
   "name": "python",
   "nbconvert_exporter": "python",
   "pygments_lexer": "ipython3",
   "version": "3.8.2"
  }
 },
 "nbformat": 4,
 "nbformat_minor": 4
}
