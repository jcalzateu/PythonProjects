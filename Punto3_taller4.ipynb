{
 "cells": [
  {
   "cell_type": "code",
   "execution_count": 1,
   "metadata": {},
   "outputs": [],
   "source": [
    "class Casa():\n",
    "    def __init__(self,colo,pisos):\n",
    "        self.colo=colo\n",
    "        self.pisos=pisos\n",
    "    def descripcion(self):\n",
    "        print('La casa es de color ', self.colo, 'La cantidad de pisos es ',self.pisos)\n",
    "class Puertas(Casa):\n",
    "    def __init__(self,Color,cantidad,altura,colo,pisos):\n",
    "        super().__init__(colo,pisos)\n",
    "        self.Color=Color\n",
    "        self.cantidad=cantidad\n",
    "        self.altura=altura\n",
    "    def descripcion(self):\n",
    "        super().descripcion()\n",
    "        print('El color de las puertas es: ', self.Color,'La cantidad de puertas son: ',self.cantidad,'La altura es: ',self.altura,'metros')"
   ]
  },
  {
   "cell_type": "code",
   "execution_count": 2,
   "metadata": {},
   "outputs": [
    {
     "name": "stdout",
     "output_type": "stream",
     "text": [
      "La casa es de color  Verde La cantidad de pisos es  5\n",
      "La casa es de color  Rojo La cantidad de pisos es  5\n",
      "El color de las puertas es:  Verde La cantidad de puertas son:  5 La altura es:  2 metros\n"
     ]
    }
   ],
   "source": [
    "Casas=Casa('Verde',5)\n",
    "Casas.descripcion()\n",
    "Casas=Puertas('Verde',5,2,'Rojo',5)\n",
    "Casas.descripcion()"
   ]
  },
  {
   "cell_type": "code",
   "execution_count": 3,
   "metadata": {},
   "outputs": [],
   "source": [
    "class Licuadora():\n",
    "    def __init__(self):\n",
    "        self.marca='Haceb'\n",
    "        self.color='Blanco'\n",
    "        self.__capacidad=2\n",
    "        self.destapado=False\n",
    "    def prueba(self,analisis):\n",
    "        self.destapado= analisis\n",
    "        \n",
    "        if (self.destapado):\n",
    "            return 'La licuadora ya fue ensayada'\n",
    "        else:\n",
    "            return 'La licuadora no ha sido ensayada'\n",
    "    def mostrar(self):\n",
    "        respuesta=('La licuadora que usted escogio es de marca {}. El color es {} La capacidad es {} litros' )\n",
    "        print(respuesta.format(self.marca,self.color,self.__capacidad))"
   ]
  },
  {
   "cell_type": "code",
   "execution_count": 4,
   "metadata": {},
   "outputs": [
    {
     "name": "stdout",
     "output_type": "stream",
     "text": [
      "La licuadora ya fue ensayada\n",
      "La licuadora que usted escogio es de marca Haceb. El color es Blanco La capacidad es 2 litros\n"
     ]
    }
   ],
   "source": [
    "LICUADORA_1=Licuadora()\n",
    "print(LICUADORA_1.prueba(True))\n",
    "LICUADORA_1.__capacidad=2000\n",
    "LICUADORA_1.mostrar()"
   ]
  },
  {
   "cell_type": "code",
   "execution_count": 5,
   "metadata": {},
   "outputs": [],
   "source": [
    "class Pc():\n",
    "    def __init__(self,color,marca,tamaño):\n",
    "        self.color=color\n",
    "        self.marca=marca\n",
    "        self.tamaño=tamaño\n",
    "        self.contado=False\n",
    "    def correcto(self,contado):\n",
    "        self.contado=contado\n",
    "        \n",
    "        if (self.contado):\n",
    "            return 'Pase a la caja a pagar'\n",
    "        else:\n",
    "            return 'Pase al centro de atención para su cotización'\n",
    "    def final (self):\n",
    "        respuesta=('El computador que desea llevar es de marca {} de color {} el tamaño es {} \" ')\n",
    "        print(respuesta.format(self.marca,self.color,self.tamaño))\n",
    "        "
   ]
  },
  {
   "cell_type": "code",
   "execution_count": 16,
   "metadata": {},
   "outputs": [
    {
     "name": "stdout",
     "output_type": "stream",
     "text": [
      "El computador que desea llevar es de marca hp de color rojo el tamaño es 15 \" \n",
      "Desea llevarlo de contado, Si=True, No=FalseTrue\n",
      "Pase a la caja a pagar\n"
     ]
    }
   ],
   "source": [
    "computador1=Pc('rojo','hp',15)\n",
    "computador1.final()\n",
    "a=bool(input('Desea llevarlo de contado, Si=True, No=False'))\n",
    "print(computador1.correcto(a))"
   ]
  },
  {
   "cell_type": "code",
   "execution_count": 87,
   "metadata": {},
   "outputs": [],
   "source": [
    "class Quimicos():\n",
    "    def __init__(self,Cantidad,Nombre,peligroso):\n",
    "        self.Cantidad=Cantidad\n",
    "        self.Nombre=Nombre\n",
    "        self.peligroso=peligroso\n",
    "        self.analitica=False\n",
    "    def analisis(self,detalle):\n",
    "        self.analitica=detalle\n",
    "#         if (self.analitica==False):\n",
    "        evala=self.pruebaanalitica()\n",
    "        if (self.analitica==True and evala==True):\n",
    "            return 'Guardelo en bodega'\n",
    "        elif (self.analitica==False and evala==False):\n",
    "            return 'Es necesario hacer prueba analítica para saber si el compuesto es el correcto'\n",
    "        elif (self.analitica== True and evala==False):\n",
    "            return 'Devuelvalo al proveedor'\n",
    "        else:\n",
    "            return 'Mentiroso'\n",
    "    def mostrar(self):\n",
    "        resultado=('Se desea ingresar {} Kg de {} es una sustancia peligrosa = {}')\n",
    "        print(resultado.format(self.Cantidad,self.Nombre,self.peligroso))\n",
    "        \n",
    "    def pruebaanalitica(self):\n",
    "        print('Se esta haciendo la prueba analítica')\n",
    "        self.quimicoreal='No'\n",
    "        if (self.quimicoreal=='Si'):\n",
    "            return True\n",
    "        else:\n",
    "            return False\n"
   ]
  },
  {
   "cell_type": "code",
   "execution_count": 91,
   "metadata": {},
   "outputs": [
    {
     "name": "stdout",
     "output_type": "stream",
     "text": [
      "Se desea ingresar 1000 Kg de HCl es una sustancia peligrosa = Si\n",
      "Se esta haciendo la prueba analitica\n",
      "Devuelvalo al provedor\n"
     ]
    }
   ],
   "source": [
    "Quimico_1=Quimicos(1000,'HCl','Si')\n",
    "Quimico_1.mostrar()\n",
    "print(Quimico_1.analisis(True))\n",
    "# print(Quimico_1.pruebaanalitica())\n",
    "# Quimico_1.__pruebaanalitica()"
   ]
  },
  {
   "cell_type": "code",
   "execution_count": 27,
   "metadata": {},
   "outputs": [],
   "source": [
    "class Casa(object):\n",
    "    def __init__(self,colo,pisos):\n",
    "        self.colo=colo\n",
    "        self.pisos=pisos\n",
    "    def descripcion(self):\n",
    "        print('La casa es de color ', self.colo, 'La cantidad de pisos es ',self.pisos)\n",
    "class Puertas(object):\n",
    "    def cantidad(self):\n",
    "        self.cantidadP=15\n",
    "        self.colorP='Azul'\n",
    "        print('Con las mejores puertas de color',self.colorP)\n",
    "class lote(Casa,Puertas):\n",
    "    def final(self):\n",
    "        resultado=('La casa de color: {} la cual tiene {} pisos')\n",
    "        print(resultado.format(self.colo,self.pisos))"
   ]
  },
  {
   "cell_type": "code",
   "execution_count": 31,
   "metadata": {},
   "outputs": [
    {
     "name": "stdout",
     "output_type": "stream",
     "text": [
      "Con las mejores puertas de color Azul\n",
      "La casa de color: Verde la cual tiene 5 pisos\n"
     ]
    }
   ],
   "source": [
    "Casas=lote('Verde',5)\n",
    "Casas.cantidad()\n",
    "Casas.final()"
   ]
  },
  {
   "cell_type": "code",
   "execution_count": null,
   "metadata": {},
   "outputs": [],
   "source": []
  }
 ],
 "metadata": {
  "kernelspec": {
   "display_name": "Python 3",
   "language": "python",
   "name": "python3"
  },
  "language_info": {
   "codemirror_mode": {
    "name": "ipython",
    "version": 3
   },
   "file_extension": ".py",
   "mimetype": "text/x-python",
   "name": "python",
   "nbconvert_exporter": "python",
   "pygments_lexer": "ipython3",
   "version": "3.8.2"
  }
 },
 "nbformat": 4,
 "nbformat_minor": 4
}
